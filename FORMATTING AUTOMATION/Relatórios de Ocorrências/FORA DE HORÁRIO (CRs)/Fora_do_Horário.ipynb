{
  "cells": [
    {
      "cell_type": "markdown",
      "metadata": {
        "id": "view-in-github",
        "colab_type": "text"
      },
      "source": [
        "<a href=\"https://colab.research.google.com/github/AkyLast/AUTOMATIZACAO-Edeconsil/blob/main/FORMATTING%20AUTOMATION/Relat%C3%B3rios%20de%20Ocorr%C3%AAncias/FORA%20DE%20HOR%C3%81RIO%20(CRs)/Fora_do_Hor%C3%A1rio.ipynb\" target=\"_parent\"><img src=\"https://colab.research.google.com/assets/colab-badge.svg\" alt=\"Open In Colab\"/></a>"
      ]
    },
    {
      "cell_type": "code",
      "source": [
        "import pandas as pd\n",
        "\n",
        "from datetime import datetime\n",
        "from openpyxl import load_workbook\n",
        "from openpyxl.styles import Alignment, PatternFill, Font\n",
        "from openpyxl.styles.borders import Border, Side"
      ],
      "metadata": {
        "id": "6C9TRyc0rWg6"
      },
      "execution_count": null,
      "outputs": []
    },
    {
      "cell_type": "code",
      "source": [
        "FILE_NAME = \"Relatorio_Formatado - FORAHORARIO.xlsx\"\n",
        "\n",
        "intervalo_time = \"04-06 a 05-06\"\n",
        "\n",
        "FILA_SAVE_NAME = f\"Relatório de Ocorrências Fora do Horário {intervalo_time}\""
      ],
      "metadata": {
        "id": "AuntAG9BUGno"
      },
      "execution_count": null,
      "outputs": []
    },
    {
      "cell_type": "code",
      "source": [
        "df = pd.read_excel(FILE_NAME)"
      ],
      "metadata": {
        "id": "5cwewZFQreKs"
      },
      "execution_count": null,
      "outputs": []
    },
    {
      "cell_type": "code",
      "source": [
        "df.loc[:, \"CR\"] = df[\"CR\"].apply(\n",
        "   lambda x: x.replace( \" - \", \" \").replace(\"  \", \" \").replace(\"-\", \" \").strip().replace(\"ALUMAR REDUÇÃO\", \"ALUMAR OPERAÇÃO REDUÇÃO\").replace(\"ALUMAR OPERAÇÃO ÁREA REDUÇÃO\", \"ALUMAR OPERAÇÃO REDUÇÃO\").replace(\"NOVA SEDE VETOR\", \"NA LOGISTICA\")\n",
        "   )\n",
        "df.loc[:, \"CR\"] = df[\"CR\"].apply(lambda x: x.replace(\"EM MANUTENÇÃO OFICINA TRACBEL\", \"REGIONAL METROPOLITANA\"))\n",
        "CR = df['CR'].unique()\n",
        "\n",
        "df.loc[:, \"MOTORISTA\"] = df[\"MOTORISTA\"].apply(\n",
        "    lambda x: x.replace(\"  \", \" \").strip().replace(\"ALUMAR - OPERAÇÃO ÁREA REDUÇÃO\", \"ALUMAR OPERAÇÃO REDUÇÃO\")\n",
        "    )\n",
        "df = df[[\"DATA\", \"HORA\", \"TAG\", \"MOTORISTA\", \"CR\", \"ENDEREÇO\"]]\n",
        "df[\"DATA\"] = pd.to_datetime(df[\"DATA\"], format=\"%d/%m/%Y\")\n",
        "df[\"DATA\"] = df[\"DATA\"].dt.strftime(\"%d/%m/%Y\")"
      ],
      "metadata": {
        "id": "tdGekAI46Kiq"
      },
      "execution_count": null,
      "outputs": []
    },
    {
      "cell_type": "code",
      "source": [
        "# Função para formatar os dados antes de salvar\n",
        "def formatar_e_salvar(df, arquivo, CR):\n",
        "    for name_CR in CR:\n",
        "        # Filtra o DataFrame com base no \"CR\"\n",
        "        df_CR = df[df[\"CR\"] == name_CR]\n",
        "\n",
        "        df_CR = df_CR.sort_values(by='DATA', ascending=True)  # Ordena o DataFrame por data em ordem crescente\n",
        "\n",
        "        # Adiciona uma coluna em branco antes de exportar\n",
        "        df_CR.insert(0, '', '')  # Coluna em branco na posição 0\n",
        "\n",
        "        # Salva o DataFrame no Excel sem o índice\n",
        "        df_CR.to_excel(f\"{arquivo} - {name_CR}.xlsx\", index=False, engine='openpyxl')\n",
        "\n",
        "        # Abre o arquivo Excel para aplicar as formatações\n",
        "        wb = load_workbook(f\"{arquivo} - {name_CR}.xlsx\")\n",
        "        ws = wb.active\n",
        "\n",
        "        # Formatação do cabeçalho (linha 1) - fundo azul e texto branco\n",
        "        header_fill = PatternFill(start_color=\"0000FF\", end_color=\"0000FF\", fill_type=\"solid\")\n",
        "        header_font = Font(color=\"FFFFFF\", bold=True)  # Branco, Negrito\n",
        "\n",
        "        # Começando da coluna 2 (segunda coluna) até a última coluna\n",
        "        for col in range(2, len(df_CR.columns) + 1):  # A partir da segunda coluna\n",
        "            cell = ws.cell(row=1, column=col)\n",
        "            cell.fill = header_fill\n",
        "            cell.font = header_font\n",
        "\n",
        "        # Definindo as bordas\n",
        "        border = Border(\n",
        "            left=Side(border_style=\"thin\", color=\"000000\"),\n",
        "            right=Side(border_style=\"thin\", color=\"000000\"),\n",
        "            top=Side(border_style=\"thin\", color=\"000000\"),\n",
        "            bottom=Side(border_style=\"thin\", color=\"000000\")\n",
        "        )\n",
        "\n",
        "        # Aplicando bordas nas células a partir da segunda coluna até a última\n",
        "        for row in range(2, len(df_CR) + 2): # Por linhas\n",
        "            for col in range(2, len(df_CR.columns) + 1):  # Por Colunas\n",
        "                cell = ws.cell(row=row, column=col)\n",
        "                cell.alignment = Alignment(horizontal='center', vertical='center')\n",
        "                cell.border = border\n",
        "\n",
        "        # Salva as alterações no arquivo Excel\n",
        "        wb.save(f\"{arquivo} - {name_CR}.xlsx\")\n",
        "\n",
        "# Chamada da função para formatar e salvar\n",
        "formatar_e_salvar(df, FILA_SAVE_NAME, CR)\n"
      ],
      "metadata": {
        "id": "LyH3nLhwBIaa"
      },
      "execution_count": null,
      "outputs": []
    }
  ],
  "metadata": {
    "colab": {
      "provenance": [],
      "include_colab_link": true
    },
    "kernelspec": {
      "display_name": "Python 3",
      "name": "python3"
    }
  },
  "nbformat": 4,
  "nbformat_minor": 0
}
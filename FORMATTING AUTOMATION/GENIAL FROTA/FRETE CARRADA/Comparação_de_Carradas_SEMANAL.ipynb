{
  "cells": [
    {
      "cell_type": "markdown",
      "metadata": {
        "id": "view-in-github",
        "colab_type": "text"
      },
      "source": [
        "<a href=\"https://colab.research.google.com/github/AkyLast/AUTOMATIZACAO-Edeconsil/blob/main/FORMATTING%20AUTOMATION/GENIAL%20FROTA/FRETE%20CARRADA/Compara%C3%A7%C3%A3o_de_Carradas_SEMANAL.ipynb\" target=\"_parent\"><img src=\"https://colab.research.google.com/assets/colab-badge.svg\" alt=\"Open In Colab\"/></a>"
      ]
    },
    {
      "cell_type": "code",
      "source": [
        "import pandas as pd\n",
        "from datetime import datetime"
      ],
      "metadata": {
        "id": "3VCbSHlYDZ15"
      },
      "execution_count": null,
      "outputs": []
    },
    {
      "cell_type": "code",
      "source": [
        "FILE_NAME = \"queryCARRADAS-20250603-154054.csv\"\n",
        "df = pd.read_csv(FILE_NAME)"
      ],
      "metadata": {
        "id": "3N86ArkiDbNd"
      },
      "execution_count": null,
      "outputs": []
    },
    {
      "cell_type": "code",
      "source": [
        "quantidade_pesoTotal = df.groupby([\"VEÍCULO\", \"MOTORISTA\", \"DATA\"])[\"QUANTIDADE\"].sum().reset_index(name=\"PESO\")\n",
        "\n",
        "# Contando o número de viagens por veículo, motorista e data\n",
        "total_viagemPorDIa = df.groupby([\"VEÍCULO\", \"MOTORISTA\"])[\"DATA\"].value_counts().reset_index(name=\"VIAGENS\")  # Conta as ocorrências, que deveriam ser as viagens\n",
        "\n",
        "# Realizando a junção entre as duas tabelas com base em VEÍCULO, MOTORISTA e DATA\n",
        "resultado_final = pd.merge(quantidade_pesoTotal, total_viagemPorDIa, on=[\"VEÍCULO\", \"MOTORISTA\", \"DATA\"], how=\"outer\")\n",
        "\n",
        "# Calculando os totais por MOTORISTA\n",
        "totais_motorista = resultado_final.groupby(\"MOTORISTA\")[[\"PESO\", \"VIAGENS\"]].sum().reset_index()\n",
        "\n",
        "# Adicionando uma linha de totais por MOTORISTA\n",
        "totais_motorista[\"VEÍCULO\"] = \"TOTAL\"\n",
        "totais_motorista[\"DATA\"] = \"TOTAL\"\n",
        "\n",
        "# Concatenando a tabela original com os totais por motorista\n",
        "resultado_final_com_totais = pd.concat([resultado_final, totais_motorista], ignore_index=True)  # Há motoristas que viajam em veículos diferente, por isso não é por TAG\n",
        "\n",
        "# organiza para exibir os totais abaixo dos motoristas\n",
        "resultado_final_com_totais = resultado_final_com_totais.sort_values(by=[\"MOTORISTA\", \"DATA\"], ascending=[True, True]).reset_index(drop=True)"
      ],
      "metadata": {
        "id": "52tnPTwTTLZ-"
      },
      "execution_count": null,
      "outputs": []
    },
    {
      "cell_type": "code",
      "source": [
        "# resultado_final_com_totais"
      ],
      "metadata": {
        "id": "C2cj2EHbSAKC"
      },
      "execution_count": null,
      "outputs": []
    },
    {
      "cell_type": "code",
      "source": [
        "hoje = datetime.today()\n",
        "\n",
        "# Obter a semana ISO (onde a semana começa na segunda-feira)\n",
        "_, numero_da_semana, dia_da_semana = hoje.isocalendar()\n",
        "\n",
        "resultado_final_com_totais.to_excel(f\"CARRADAS - COMPARAÇÃO SEMANAL ({numero_da_semana}).xlsx\", index = False)"
      ],
      "metadata": {
        "id": "-eXal0c9RFOB"
      },
      "execution_count": null,
      "outputs": []
    }
  ],
  "metadata": {
    "colab": {
      "provenance": [],
      "include_colab_link": true
    },
    "kernelspec": {
      "display_name": "Python 3",
      "name": "python3"
    }
  },
  "nbformat": 4,
  "nbformat_minor": 0
}